{
 "cells": [
  {
   "cell_type": "markdown",
   "id": "b4b6a552-b7f0-433d-9a70-61c4fcc52d5d",
   "metadata": {},
   "source": [
    "# 快速入门 GPT-4 Vison\n",
    "\n",
    "从历史上看，语言模型系统仅接受**文本**作为输入。但是单一的输入形式，限制了大模型的应用落地范围。\n",
    "\n",
    "随着技术发展，OpenAI 开发的 GPT-4 Turbo with Vision（简称 GPT-4V）允许模型接收**图像**作为输入，并回答关于它们的问题。\n",
    "\n",
    "📢注意，目前在 Assistants API 中使用 GPT-4 时还不支持图像输入。"
   ]
  },
  {
   "cell_type": "markdown",
   "id": "3a701c56-0a2a-4dea-b458-234150b84ff2",
   "metadata": {},
   "source": [
    "## 使用 GPT-4V 识别线上图像（URL）\n",
    "\n",
    "![image_sample](https://upload.wikimedia.org/wikipedia/commons/thumb/d/dd/Gfp-wisconsin-madison-the-nature-boardwalk.jpg/2560px-Gfp-wisconsin-madison-the-nature-boardwalk.jpg)"
   ]
  },
  {
   "cell_type": "code",
   "execution_count": 27,
   "id": "bf8689b2-94f2-4a35-a332-9ffed0a56aca",
   "metadata": {},
   "outputs": [
    {
     "name": "stdout",
     "output_type": "stream",
     "text": [
      "Choice(finish_reason='stop', index=0, logprobs=None, message=ChatCompletionMessage(content='这幅图显示了一个美丽的自然景观，是一个宁静的湿地环境。图中心是一条木制的栈道，引导观者的视线深入画面，通向远处的地平线。四周被翠绿的草地和杂树丛环绕，这为画面增添了丰富的绿色调。这个场景可能位于一个自然保护区或公园内，旨在保护地面不受过度行走的破坏，同时提供给游人一条安全的观赏路线。\\n\\n天空呈现出动人的蓝色和白色云朵，增强了画面的深度和广阔感。整体上，这幅图展示了大自然的宁静与和谐，是自然美景与人类设施协调共存的一个例证。这样的环境是很适合散步、放松和自然观察的地方。', role='assistant', function_call=None, tool_calls=None))\n"
     ]
    }
   ],
   "source": [
    "from openai import OpenAI\n",
    "\n",
    "client = OpenAI()\n",
    "\n",
    "response = client.chat.completions.create(\n",
    "  model=\"gpt-4-turbo\",\n",
    "  messages=[\n",
    "    {\n",
    "      \"role\": \"user\",\n",
    "      \"content\": [\n",
    "        {\"type\": \"text\", \"text\": \"介绍下这幅图?\"},\n",
    "        {\n",
    "          \"type\": \"image_url\",\n",
    "          \"image_url\": {\n",
    "            \"url\": \"https://upload.wikimedia.org/wikipedia/commons/thumb/d/dd/Gfp-wisconsin-madison-the-nature-boardwalk.jpg/2560px-Gfp-wisconsin-madison-the-nature-boardwalk.jpg\",\n",
    "          },\n",
    "        },\n",
    "      ],\n",
    "    }\n",
    "  ],\n",
    "  max_tokens=300,\n",
    ")\n",
    "\n",
    "print(response.choices[0])"
   ]
  },
  {
   "cell_type": "code",
   "execution_count": 28,
   "id": "9bcc9026-7485-428f-8269-ea9ae41405cb",
   "metadata": {},
   "outputs": [
    {
     "data": {
      "text/plain": [
       "'这幅图显示了一个美丽的自然景观，是一个宁静的湿地环境。图中心是一条木制的栈道，引导观者的视线深入画面，通向远处的地平线。四周被翠绿的草地和杂树丛环绕，这为画面增添了丰富的绿色调。这个场景可能位于一个自然保护区或公园内，旨在保护地面不受过度行走的破坏，同时提供给游人一条安全的观赏路线。\\n\\n天空呈现出动人的蓝色和白色云朵，增强了画面的深度和广阔感。整体上，这幅图展示了大自然的宁静与和谐，是自然美景与人类设施协调共存的一个例证。这样的环境是很适合散步、放松和自然观察的地方。'"
      ]
     },
     "execution_count": 28,
     "metadata": {},
     "output_type": "execute_result"
    }
   ],
   "source": [
    "response.choices[0].message.content"
   ]
  },
  {
   "cell_type": "markdown",
   "id": "7fb50a14-fa14-4c63-9f81-b98b0f65d9d9",
   "metadata": {},
   "source": [
    "### 封装成一个函数 query_image_description"
   ]
  },
  {
   "cell_type": "code",
   "execution_count": 29,
   "id": "c1ca5428-c7e1-4d7e-91f1-d4a05e95ac51",
   "metadata": {},
   "outputs": [],
   "source": [
    "def query_image_description(url, prompt=\"介绍下这幅图?\"):\n",
    "    client = OpenAI()  # 初始化 OpenAI 客户端\n",
    "    \n",
    "    # 发送请求给 OpenAI 的聊天模型\n",
    "    response = client.chat.completions.create(\n",
    "        model=\"gpt-4-turbo\",  # 指定使用的模型\n",
    "        messages=[\n",
    "            {\n",
    "                \"role\": \"user\",\n",
    "                \"content\": [\n",
    "                    {\"type\": \"text\", \"text\": prompt},\n",
    "                    {\"type\": \"image_url\", \"image_url\": {\"url\": url}},\n",
    "                ],\n",
    "            }\n",
    "        ],\n",
    "        max_tokens=300,\n",
    "    )\n",
    "    \n",
    "    # 返回模型的响应\n",
    "    return response.choices[0].message.content\n"
   ]
  },
  {
   "cell_type": "markdown",
   "id": "a0d0aceb-7cc5-4da1-b6db-e47716ba145a",
   "metadata": {},
   "source": [
    "### 调用函数测试\n",
    "\n",
    "![meme_0](https://p6.itc.cn/q_70/images03/20200602/0c267a0d3d814c9783659eb956969ba1.jpeg)"
   ]
  },
  {
   "cell_type": "code",
   "execution_count": 30,
   "id": "454abb5c-49d3-42e6-867e-f44e25af5e0e",
   "metadata": {},
   "outputs": [
    {
     "name": "stdout",
     "output_type": "stream",
     "text": [
      "这幅图描绘了两种不同表达方式的狗的卡通形象。左边的图显示了一只肌肉发达的狗，配文字“16岁的我，工作后的我”，意在幽默地展示年轻时的活力和强健。它身上的文字描述了各种积极和充满活力的特点，如“我刚像一片光明、大家阿姨、少年气盛”等。\n",
      "\n",
      "右边的图则表现了一只看起来比较悲观和疲惫的狗，文字描述反映了工作生活中可能遇到的压力和挑战，例如“好累好累，好想摸摸你” 和 “工友不理我就我摸我自己”。\n",
      "\n",
      "总体上，这幅图通过对比展示了一个人工作前后可能经历的变化，用幽默的方式表达了工作生活可能带来的压力与消极情绪。这种幽默和夸张的表达方式\n"
     ]
    }
   ],
   "source": [
    "image_url = \"https://p6.itc.cn/q_70/images03/20200602/0c267a0d3d814c9783659eb956969ba1.jpeg\"\n",
    "content = query_image_description(image_url)\n",
    "print(content)"
   ]
  },
  {
   "cell_type": "code",
   "execution_count": null,
   "id": "2471306a-84e2-4793-b065-0741fbe57262",
   "metadata": {},
   "outputs": [],
   "source": []
  },
  {
   "cell_type": "code",
   "execution_count": null,
   "id": "af79850f-83b5-49c4-a3f3-f2c01a28f458",
   "metadata": {},
   "outputs": [],
   "source": []
  },
  {
   "cell_type": "markdown",
   "id": "63ae05bd-872c-4638-8259-df4f420aaa1d",
   "metadata": {},
   "source": [
    "### 使用 GPT-4V 识别本地图像文件（Base64编码）\n"
   ]
  },
  {
   "cell_type": "code",
   "execution_count": 31,
   "id": "1e83da68-d387-46da-8236-78fc607d1fab",
   "metadata": {},
   "outputs": [],
   "source": [
    "from openai import OpenAI\n",
    "import base64\n",
    "import requests\n",
    "import json\n",
    "\n",
    "client = OpenAI()  # 初始化 OpenAI 客户端\n",
    "\n",
    "def query_base64_image_description(image_path, prompt=\"解释下图里的内容？\", max_tokens=1000):\n",
    "\n",
    "    # 实现 Base64 编码\n",
    "    def encode_image(path):\n",
    "        with open(path, \"rb\") as image_file:\n",
    "            return base64.b64encode(image_file.read()).decode('utf-8')\n",
    "\n",
    "    # 获取图像的 Base64 编码字符串\n",
    "    base64_image = encode_image(image_path)\n",
    "\n",
    "    # 构造请求的 HTTP Header\n",
    "    headers = {\n",
    "        \"Content-Type\": \"application/json\",\n",
    "        \"Authorization\": f\"Bearer {client.api_key}\"\n",
    "    }\n",
    "\n",
    "    # 构造请求的负载\n",
    "    payload = {\n",
    "        \"model\": \"gpt-4-turbo\",\n",
    "        \"messages\": [\n",
    "            {\n",
    "                \"role\": \"user\",\n",
    "                \"content\": [\n",
    "                    {\"type\": \"text\", \"text\": prompt},\n",
    "                    {\"type\": \"image_url\", \"image_url\": {\"url\": f\"data:image/jpeg;base64,{base64_image}\"}}\n",
    "                ]\n",
    "            }\n",
    "        ],\n",
    "        \"max_tokens\": max_tokens\n",
    "    }\n",
    "\n",
    "    # 发送 HTTP 请求\n",
    "    response = requests.post(\"https://api.xiaoai.plus/v1/chat/completions\", headers=headers, json=payload)\n",
    "    print(response)\n",
    "    # 检查响应并提取所需的 content 字段\n",
    "    if response.status_code == 200:\n",
    "        response_data = response.json()\n",
    "        content = response_data['choices'][0]['message']['content']\n",
    "        return content\n",
    "    else:\n",
    "        return f\"Error: {response.status_code}, {response.text}\""
   ]
  },
  {
   "cell_type": "markdown",
   "id": "89dd0f99-8086-473f-80a4-497e6dd07c17",
   "metadata": {},
   "source": [
    "#### 使用 Assistants API生成的 GDP 40年对比曲线图\n",
    "\n",
    "![gdp_data](./images/gdp_1980_2020.jpg)"
   ]
  },
  {
   "cell_type": "code",
   "execution_count": 32,
   "id": "3c0e9063-e8d9-4bc1-ae60-ad0aa5bee32b",
   "metadata": {},
   "outputs": [
    {
     "name": "stdout",
     "output_type": "stream",
     "text": [
      "<Response [200]>\n",
      "这幅图显示了1980年到2020年期间，美国、中国、日本和德国的国内生产总值（GDP）的比较。其中，各国的GDP用不同颜色的线表示：\n",
      "\n",
      "- 蓝线代表美国\n",
      "- 红线代表中国\n",
      "- 紫线代表日本\n",
      "- 绿线代表德国\n",
      "\n",
      "从图中可以看出，美国的GDP在这40年间一直呈现上升趋势，且在各国中排名第一。中国的GDP增长非常显著，从图中可以看到自1990年代初以来，其增速加快，到2010年代超过了日本，成为第二大经济体。日本的GDP在1990年代初达到峰值后略有波动，之后基本稳定。德国的GDP增长较为平稳，位于日本之后。\n",
      "\n",
      "总的来说，这个图表提供了一个清晰的视角来比较这四个国家经济的总体规模和增长趋势。\n"
     ]
    }
   ],
   "source": [
    "content = query_base64_image_description(\"./images/gdp_1980_2020.jpg\")\n",
    "print(content)"
   ]
  },
  {
   "cell_type": "markdown",
   "id": "6d18b227-32a6-4450-86bd-c99ad5c533b9",
   "metadata": {},
   "source": [
    "#### 使用 GPT-4V 识别手写体笔记\n",
    "\n",
    "![](./images/handwriting_0.jpg)"
   ]
  },
  {
   "cell_type": "code",
   "execution_count": 33,
   "id": "4193fa11-5edd-404c-9472-0cb8cc6799fc",
   "metadata": {},
   "outputs": [
    {
     "name": "stdout",
     "output_type": "stream",
     "text": [
      "<Response [200]>\n",
      "这张图片中展示的内容是一本笔记本上的笔记，主题涉及人工智能领域中的几种参数调整技术，如prompt tuning、prefix tuning以及LoRA。\n",
      "\n",
      "1. **Prompt Tuning（提示调整）**：这种技术涉及使用小模型，并与输入数据一起创建输入嵌入，改变模型在处理数据时的行为模式。\n",
      "\n",
      "2. **Prefix Tuning（前缀调整）**：在这种方法中，会给模型的输入添加前缀，通过引入W'来影响输入X，并通过Transformer的编码器/解码器对这些数据进行处理。\n",
      "\n",
      "3. **LoRA（低秩适应）**：这部分笔记详细说明了如何通过调整权重矩阵W来引入一个小的变化ΔW，来获得新的输出Y。这种方法通过减小参数的更改来节省存储空间和计算资源，可以看到笔记中提到的LoRA和QLoRA，以及相关的存储数据需求（如LoRA - 78GB和QLoRA - 48GB）。\n",
      "\n",
      "整体来看，这些笔记可能是在研读如何使用这些先进的调整技术来改进或微调深度学习模型，特别是在自然语言处理或类似领域中。\n"
     ]
    }
   ],
   "source": [
    "content = query_base64_image_description(\"./images/handwriting_0.jpg\")\n",
    "print(content)"
   ]
  },
  {
   "cell_type": "markdown",
   "id": "ca046601-018c-455c-ace2-41392cbda456",
   "metadata": {},
   "source": [
    "#### 在 Jupyter 标准输出中渲染 Markdown 格式内容"
   ]
  },
  {
   "cell_type": "code",
   "execution_count": 34,
   "id": "516ee35b-1337-4b22-aea2-ee0adb706098",
   "metadata": {},
   "outputs": [
    {
     "data": {
      "text/markdown": [
       "这张图片中展示的内容是一本笔记本上的笔记，主题涉及人工智能领域中的几种参数调整技术，如prompt tuning、prefix tuning以及LoRA。\n",
       "\n",
       "1. **Prompt Tuning（提示调整）**：这种技术涉及使用小模型，并与输入数据一起创建输入嵌入，改变模型在处理数据时的行为模式。\n",
       "\n",
       "2. **Prefix Tuning（前缀调整）**：在这种方法中，会给模型的输入添加前缀，通过引入W'来影响输入X，并通过Transformer的编码器/解码器对这些数据进行处理。\n",
       "\n",
       "3. **LoRA（低秩适应）**：这部分笔记详细说明了如何通过调整权重矩阵W来引入一个小的变化ΔW，来获得新的输出Y。这种方法通过减小参数的更改来节省存储空间和计算资源，可以看到笔记中提到的LoRA和QLoRA，以及相关的存储数据需求（如LoRA - 78GB和QLoRA - 48GB）。\n",
       "\n",
       "整体来看，这些笔记可能是在研读如何使用这些先进的调整技术来改进或微调深度学习模型，特别是在自然语言处理或类似领域中。"
      ],
      "text/plain": [
       "<IPython.core.display.Markdown object>"
      ]
     },
     "metadata": {},
     "output_type": "display_data"
    }
   ],
   "source": [
    "from IPython.display import display, Markdown\n",
    "\n",
    "# 使用 display 和 Markdown 函数显示 Markdown 内容\n",
    "display(Markdown(content))"
   ]
  },
  {
   "cell_type": "markdown",
   "id": "b72ebbe3-87cc-4867-9cf0-62e5ed684482",
   "metadata": {},
   "source": [
    "![](./images/handwriting_1.jpg)"
   ]
  },
  {
   "cell_type": "code",
   "execution_count": 35,
   "id": "7c046958-aa7a-4066-88fa-4134869d9226",
   "metadata": {},
   "outputs": [
    {
     "name": "stdout",
     "output_type": "stream",
     "text": [
      "<Response [200]>\n"
     ]
    },
    {
     "data": {
      "text/markdown": [
       "这张图片显示的是一本笔记本的两页，内容主要涉及人工智能中的“变换器(transformers)”模型，特别是在自然语言处理(NLP)领域中的各种调优技术和方法。左边的部分主要描述了与变换器相关的一些方法如：PEFT、SOTA、PBFT Methods 以及各种Prompt Tuning技术，例如Adapter、Prefix、P-tuning等。右边的部分讨论了多模态指导微调、LoRA、PETC等新方法，并提到了关于Adapters的一些细节和优化，例如MAM Adapters和对比函数等。\n",
       "\n",
       "这些笔记看上去是某位研究人员或学生在学习或整理关于最新的AI模型调整技术时的记录。笔记详细记录了不同技术的发表时间、研究机构、核心概念以及它们在语言模型中的应用，这对于追踪技术发展或进行科学研究都很有帮助。"
      ],
      "text/plain": [
       "<IPython.core.display.Markdown object>"
      ]
     },
     "metadata": {},
     "output_type": "display_data"
    }
   ],
   "source": [
    "content = query_base64_image_description(\"./images/handwriting_1.jpg\")\n",
    "display(Markdown(content))"
   ]
  },
  {
   "cell_type": "code",
   "execution_count": null,
   "id": "156a0f17-cca8-4f01-9ce5-53384b5ffda4",
   "metadata": {},
   "outputs": [],
   "source": []
  },
  {
   "cell_type": "code",
   "execution_count": null,
   "id": "e3bd772f-9492-4f6c-b05a-666b772ca3c9",
   "metadata": {},
   "outputs": [],
   "source": []
  },
  {
   "cell_type": "code",
   "execution_count": null,
   "id": "8afdeacb-aac1-4692-be2b-fb7957ba5e8f",
   "metadata": {},
   "outputs": [],
   "source": []
  },
  {
   "cell_type": "markdown",
   "id": "79a8d459-d98e-4215-9fbf-38ad37080475",
   "metadata": {},
   "source": [
    "## Homework: \n",
    "\n",
    "\n",
    "### #1\n",
    "\n",
    "使用 GPT-4V 识别带有手写体文字的本地图像文件，分享结果。\n",
    "\n",
    "### #2\n",
    "\n",
    "整合 `query_base64_image_description` 函数和 Markdown 格式渲染方法，使得输出结果更易阅读。"
   ]
  },
  {
   "cell_type": "code",
   "execution_count": 37,
   "id": "0909bf27-9c4a-498c-9fae-0f442062b9a8",
   "metadata": {},
   "outputs": [
    {
     "name": "stdout",
     "output_type": "stream",
     "text": [
      "<Response [200]>\n",
      "这张图片展示的是关于检查放行订单流程的笔记。详细步骤如下：\n",
      "\n",
      "1. **检查提单(B/L)是否设置了放行订单**\n",
      "   - 提单（B/L）是指货物运输中的提货单或者装货单，这一步检查是否进行了放行订单的设置。\n",
      "\n",
      "2. **检查提单是否有放行订单的接收者**\n",
      "   - 这一步检查的是是否已经指定了放行订单的接收方。\n",
      "\n",
      "3. **检查提单货物的放行状态是否全部清除**\n",
      "   - 检查提单上的货物是否已经获得了全部必要的清关放行，以使其能够被提取。\n",
      "\n",
      "4. **检查提单的PIN状态，如果提单的最后转运中心是Antwerp, 接着检查终端放行状态**\n",
      "   - 这里涉及到用PIN码进行身份验证或安全检查，特别是如果货物的最后转运中心是Antwerp时，还需要检查货物在终端是否被放行。\n",
      "\n",
      "这些笔记可能是用于受托管理货物运输和放行的操作步骤，确保各个环节按照规定进行，以避免在运输或接收过程中出现问题。\n"
     ]
    }
   ],
   "source": [
    "# 使用 GPT-4V 识别带有手写体文字的本地图像文件，分享结果\n",
    "content = query_base64_image_description(\"./images/gpt4-v.jpg\")\n",
    "print(content)"
   ]
  },
  {
   "cell_type": "code",
   "execution_count": 38,
   "id": "baa64d52-ec0f-4059-b0e9-364bf0233401",
   "metadata": {},
   "outputs": [
    {
     "name": "stdout",
     "output_type": "stream",
     "text": [
      "<Response [200]>\n"
     ]
    },
    {
     "data": {
      "text/markdown": [
       "这张图片显示的是一份手写的笔记，内容关于检查释放订单的流程。具体步骤如下：\n",
       "\n",
       "1. Check BL has release order setting - 检查提单（BL，Bill of Lading）是否设置了释放订单。\n",
       "2. Check BL has Release order Recipient - 检查提单是否有释放订单的接收者。\n",
       "3. Check BL cargo release status all cleared - 检查提单的货物释放状态是否全部清除。\n",
       "4. Check BL PIN status, if BL Last hub is Antwerp, then check terminal release status. - 检查提单的PIN状态，如果提单的最后一个枢纽是安特卫普，那么检查终端的释放状态。\n",
       "\n",
       "这些步骤是为了确保货物的分派与接收在物流过程中是清晰且有序的，特别是在不同的地点和可能的法律条款之间。"
      ],
      "text/plain": [
       "<IPython.core.display.Markdown object>"
      ]
     },
     "metadata": {},
     "output_type": "display_data"
    }
   ],
   "source": [
    "# 整合 `query_base64_image_description` 函数和 Markdown 格式渲染方法，使得输出结果更易阅读。\n",
    "from IPython.display import display, Markdown\n",
    "content = query_base64_image_description(\"./images/gpt4-v.jpg\")\n",
    "display(Markdown(content))"
   ]
  },
  {
   "cell_type": "code",
   "execution_count": null,
   "id": "321d402b-2c94-4c6e-b491-ae4a3804e065",
   "metadata": {},
   "outputs": [],
   "source": []
  }
 ],
 "metadata": {
  "kernelspec": {
   "display_name": "langchain",
   "language": "python",
   "name": "langchain"
  },
  "language_info": {
   "codemirror_mode": {
    "name": "ipython",
    "version": 3
   },
   "file_extension": ".py",
   "mimetype": "text/x-python",
   "name": "python",
   "nbconvert_exporter": "python",
   "pygments_lexer": "ipython3",
   "version": "3.10.14"
  }
 },
 "nbformat": 4,
 "nbformat_minor": 5
}
